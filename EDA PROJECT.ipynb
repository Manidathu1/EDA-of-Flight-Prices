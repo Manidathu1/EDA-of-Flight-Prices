{
 "cells": [
  {
   "cell_type": "markdown",
   "id": "fabdc21f",
   "metadata": {},
   "source": [
    "# EDA PROJECT"
   ]
  },
  {
   "cell_type": "markdown",
   "id": "931a35e1",
   "metadata": {},
   "source": [
    "## Description"
   ]
  },
  {
   "cell_type": "markdown",
   "id": "dfbe24ce",
   "metadata": {},
   "source": [
    "Dataset contains information about flight booking options from the website Easemytrip for flight travel between India's top 6 metro cities. There are 300261 datapoints and 11 features in the cleaned dataset."
   ]
  },
  {
   "cell_type": "code",
   "execution_count": 1,
   "id": "ef5d0e49",
   "metadata": {},
   "outputs": [],
   "source": [
    "#Importing the libraries\n",
    "import pandas as pd\n",
    "import numpy as np\n",
    "import seaborn as sns\n",
    "import matplotlib.pyplot as plt"
   ]
  },
  {
   "cell_type": "code",
   "execution_count": 2,
   "id": "85b88e3c",
   "metadata": {
    "scrolled": true
   },
   "outputs": [
    {
     "data": {
      "text/html": [
       "<div>\n",
       "<style scoped>\n",
       "    .dataframe tbody tr th:only-of-type {\n",
       "        vertical-align: middle;\n",
       "    }\n",
       "\n",
       "    .dataframe tbody tr th {\n",
       "        vertical-align: top;\n",
       "    }\n",
       "\n",
       "    .dataframe thead th {\n",
       "        text-align: right;\n",
       "    }\n",
       "</style>\n",
       "<table border=\"1\" class=\"dataframe\">\n",
       "  <thead>\n",
       "    <tr style=\"text-align: right;\">\n",
       "      <th></th>\n",
       "      <th>Unnamed: 0</th>\n",
       "      <th>airline</th>\n",
       "      <th>flight</th>\n",
       "      <th>source_city</th>\n",
       "      <th>departure_time</th>\n",
       "      <th>stops</th>\n",
       "      <th>arrival_time</th>\n",
       "      <th>destination_city</th>\n",
       "      <th>class</th>\n",
       "      <th>duration</th>\n",
       "      <th>days_left</th>\n",
       "      <th>price</th>\n",
       "    </tr>\n",
       "  </thead>\n",
       "  <tbody>\n",
       "    <tr>\n",
       "      <th>0</th>\n",
       "      <td>0</td>\n",
       "      <td>SpiceJet</td>\n",
       "      <td>SG-8709</td>\n",
       "      <td>Delhi</td>\n",
       "      <td>Evening</td>\n",
       "      <td>zero</td>\n",
       "      <td>Night</td>\n",
       "      <td>Mumbai</td>\n",
       "      <td>Economy</td>\n",
       "      <td>2.17</td>\n",
       "      <td>1</td>\n",
       "      <td>5953</td>\n",
       "    </tr>\n",
       "    <tr>\n",
       "      <th>1</th>\n",
       "      <td>1</td>\n",
       "      <td>SpiceJet</td>\n",
       "      <td>SG-8157</td>\n",
       "      <td>Delhi</td>\n",
       "      <td>Early_Morning</td>\n",
       "      <td>zero</td>\n",
       "      <td>Morning</td>\n",
       "      <td>Mumbai</td>\n",
       "      <td>Economy</td>\n",
       "      <td>2.33</td>\n",
       "      <td>1</td>\n",
       "      <td>5953</td>\n",
       "    </tr>\n",
       "    <tr>\n",
       "      <th>2</th>\n",
       "      <td>2</td>\n",
       "      <td>AirAsia</td>\n",
       "      <td>I5-764</td>\n",
       "      <td>Delhi</td>\n",
       "      <td>Early_Morning</td>\n",
       "      <td>zero</td>\n",
       "      <td>Early_Morning</td>\n",
       "      <td>Mumbai</td>\n",
       "      <td>Economy</td>\n",
       "      <td>2.17</td>\n",
       "      <td>1</td>\n",
       "      <td>5956</td>\n",
       "    </tr>\n",
       "    <tr>\n",
       "      <th>3</th>\n",
       "      <td>3</td>\n",
       "      <td>Vistara</td>\n",
       "      <td>UK-995</td>\n",
       "      <td>Delhi</td>\n",
       "      <td>Morning</td>\n",
       "      <td>zero</td>\n",
       "      <td>Afternoon</td>\n",
       "      <td>Mumbai</td>\n",
       "      <td>Economy</td>\n",
       "      <td>2.25</td>\n",
       "      <td>1</td>\n",
       "      <td>5955</td>\n",
       "    </tr>\n",
       "    <tr>\n",
       "      <th>4</th>\n",
       "      <td>4</td>\n",
       "      <td>Vistara</td>\n",
       "      <td>UK-963</td>\n",
       "      <td>Delhi</td>\n",
       "      <td>Morning</td>\n",
       "      <td>zero</td>\n",
       "      <td>Morning</td>\n",
       "      <td>Mumbai</td>\n",
       "      <td>Economy</td>\n",
       "      <td>2.33</td>\n",
       "      <td>1</td>\n",
       "      <td>5955</td>\n",
       "    </tr>\n",
       "  </tbody>\n",
       "</table>\n",
       "</div>"
      ],
      "text/plain": [
       "   Unnamed: 0   airline   flight source_city departure_time stops  \\\n",
       "0           0  SpiceJet  SG-8709       Delhi        Evening  zero   \n",
       "1           1  SpiceJet  SG-8157       Delhi  Early_Morning  zero   \n",
       "2           2   AirAsia   I5-764       Delhi  Early_Morning  zero   \n",
       "3           3   Vistara   UK-995       Delhi        Morning  zero   \n",
       "4           4   Vistara   UK-963       Delhi        Morning  zero   \n",
       "\n",
       "    arrival_time destination_city    class  duration  days_left  price  \n",
       "0          Night           Mumbai  Economy      2.17          1   5953  \n",
       "1        Morning           Mumbai  Economy      2.33          1   5953  \n",
       "2  Early_Morning           Mumbai  Economy      2.17          1   5956  \n",
       "3      Afternoon           Mumbai  Economy      2.25          1   5955  \n",
       "4        Morning           Mumbai  Economy      2.33          1   5955  "
      ]
     },
     "execution_count": 2,
     "metadata": {},
     "output_type": "execute_result"
    }
   ],
   "source": [
    "#Reading dataset\n",
    "df=pd.read_csv(\"Dataset.csv\")\n",
    "df.head()"
   ]
  },
  {
   "cell_type": "code",
   "execution_count": 3,
   "id": "27aa35d4",
   "metadata": {},
   "outputs": [
    {
     "data": {
      "text/html": [
       "<div>\n",
       "<style scoped>\n",
       "    .dataframe tbody tr th:only-of-type {\n",
       "        vertical-align: middle;\n",
       "    }\n",
       "\n",
       "    .dataframe tbody tr th {\n",
       "        vertical-align: top;\n",
       "    }\n",
       "\n",
       "    .dataframe thead th {\n",
       "        text-align: right;\n",
       "    }\n",
       "</style>\n",
       "<table border=\"1\" class=\"dataframe\">\n",
       "  <thead>\n",
       "    <tr style=\"text-align: right;\">\n",
       "      <th></th>\n",
       "      <th>Unnamed: 0</th>\n",
       "      <th>airline</th>\n",
       "      <th>flight</th>\n",
       "      <th>source_city</th>\n",
       "      <th>departure_time</th>\n",
       "      <th>stops</th>\n",
       "      <th>arrival_time</th>\n",
       "      <th>destination_city</th>\n",
       "      <th>class</th>\n",
       "      <th>duration</th>\n",
       "      <th>days_left</th>\n",
       "      <th>price</th>\n",
       "    </tr>\n",
       "  </thead>\n",
       "  <tbody>\n",
       "    <tr>\n",
       "      <th>300148</th>\n",
       "      <td>300148</td>\n",
       "      <td>Vistara</td>\n",
       "      <td>UK-822</td>\n",
       "      <td>Chennai</td>\n",
       "      <td>Morning</td>\n",
       "      <td>one</td>\n",
       "      <td>Evening</td>\n",
       "      <td>Hyderabad</td>\n",
       "      <td>Business</td>\n",
       "      <td>10.08</td>\n",
       "      <td>49</td>\n",
       "      <td>69265</td>\n",
       "    </tr>\n",
       "    <tr>\n",
       "      <th>300149</th>\n",
       "      <td>300149</td>\n",
       "      <td>Vistara</td>\n",
       "      <td>UK-826</td>\n",
       "      <td>Chennai</td>\n",
       "      <td>Afternoon</td>\n",
       "      <td>one</td>\n",
       "      <td>Night</td>\n",
       "      <td>Hyderabad</td>\n",
       "      <td>Business</td>\n",
       "      <td>10.42</td>\n",
       "      <td>49</td>\n",
       "      <td>77105</td>\n",
       "    </tr>\n",
       "    <tr>\n",
       "      <th>300150</th>\n",
       "      <td>300150</td>\n",
       "      <td>Vistara</td>\n",
       "      <td>UK-832</td>\n",
       "      <td>Chennai</td>\n",
       "      <td>Early_Morning</td>\n",
       "      <td>one</td>\n",
       "      <td>Night</td>\n",
       "      <td>Hyderabad</td>\n",
       "      <td>Business</td>\n",
       "      <td>13.83</td>\n",
       "      <td>49</td>\n",
       "      <td>79099</td>\n",
       "    </tr>\n",
       "    <tr>\n",
       "      <th>300151</th>\n",
       "      <td>300151</td>\n",
       "      <td>Vistara</td>\n",
       "      <td>UK-828</td>\n",
       "      <td>Chennai</td>\n",
       "      <td>Early_Morning</td>\n",
       "      <td>one</td>\n",
       "      <td>Evening</td>\n",
       "      <td>Hyderabad</td>\n",
       "      <td>Business</td>\n",
       "      <td>10.00</td>\n",
       "      <td>49</td>\n",
       "      <td>81585</td>\n",
       "    </tr>\n",
       "    <tr>\n",
       "      <th>300152</th>\n",
       "      <td>300152</td>\n",
       "      <td>Vistara</td>\n",
       "      <td>UK-822</td>\n",
       "      <td>Chennai</td>\n",
       "      <td>Morning</td>\n",
       "      <td>one</td>\n",
       "      <td>Evening</td>\n",
       "      <td>Hyderabad</td>\n",
       "      <td>Business</td>\n",
       "      <td>10.08</td>\n",
       "      <td>49</td>\n",
       "      <td>81585</td>\n",
       "    </tr>\n",
       "  </tbody>\n",
       "</table>\n",
       "</div>"
      ],
      "text/plain": [
       "        Unnamed: 0  airline  flight source_city departure_time stops  \\\n",
       "300148      300148  Vistara  UK-822     Chennai        Morning   one   \n",
       "300149      300149  Vistara  UK-826     Chennai      Afternoon   one   \n",
       "300150      300150  Vistara  UK-832     Chennai  Early_Morning   one   \n",
       "300151      300151  Vistara  UK-828     Chennai  Early_Morning   one   \n",
       "300152      300152  Vistara  UK-822     Chennai        Morning   one   \n",
       "\n",
       "       arrival_time destination_city     class  duration  days_left  price  \n",
       "300148      Evening        Hyderabad  Business     10.08         49  69265  \n",
       "300149        Night        Hyderabad  Business     10.42         49  77105  \n",
       "300150        Night        Hyderabad  Business     13.83         49  79099  \n",
       "300151      Evening        Hyderabad  Business     10.00         49  81585  \n",
       "300152      Evening        Hyderabad  Business     10.08         49  81585  "
      ]
     },
     "execution_count": 3,
     "metadata": {},
     "output_type": "execute_result"
    }
   ],
   "source": [
    "#Last 5 rows of Dataset\n",
    "df.tail()"
   ]
  },
  {
   "cell_type": "code",
   "execution_count": 4,
   "id": "e7a9b9c6",
   "metadata": {},
   "outputs": [
    {
     "name": "stdout",
     "output_type": "stream",
     "text": [
      "<class 'pandas.core.frame.DataFrame'>\n",
      "RangeIndex: 300153 entries, 0 to 300152\n",
      "Data columns (total 12 columns):\n",
      " #   Column            Non-Null Count   Dtype  \n",
      "---  ------            --------------   -----  \n",
      " 0   Unnamed: 0        300153 non-null  int64  \n",
      " 1   airline           300153 non-null  object \n",
      " 2   flight            300153 non-null  object \n",
      " 3   source_city       300153 non-null  object \n",
      " 4   departure_time    300153 non-null  object \n",
      " 5   stops             300153 non-null  object \n",
      " 6   arrival_time      300153 non-null  object \n",
      " 7   destination_city  300153 non-null  object \n",
      " 8   class             300153 non-null  object \n",
      " 9   duration          300153 non-null  float64\n",
      " 10  days_left         300153 non-null  int64  \n",
      " 11  price             300153 non-null  int64  \n",
      "dtypes: float64(1), int64(3), object(8)\n",
      "memory usage: 27.5+ MB\n"
     ]
    }
   ],
   "source": [
    "#info of dataset\n",
    "df.info()"
   ]
  },
  {
   "cell_type": "code",
   "execution_count": 5,
   "id": "406b2d3e",
   "metadata": {},
   "outputs": [
    {
     "data": {
      "text/html": [
       "<div>\n",
       "<style scoped>\n",
       "    .dataframe tbody tr th:only-of-type {\n",
       "        vertical-align: middle;\n",
       "    }\n",
       "\n",
       "    .dataframe tbody tr th {\n",
       "        vertical-align: top;\n",
       "    }\n",
       "\n",
       "    .dataframe thead th {\n",
       "        text-align: right;\n",
       "    }\n",
       "</style>\n",
       "<table border=\"1\" class=\"dataframe\">\n",
       "  <thead>\n",
       "    <tr style=\"text-align: right;\">\n",
       "      <th></th>\n",
       "      <th>Unnamed: 0</th>\n",
       "      <th>duration</th>\n",
       "      <th>days_left</th>\n",
       "      <th>price</th>\n",
       "    </tr>\n",
       "  </thead>\n",
       "  <tbody>\n",
       "    <tr>\n",
       "      <th>count</th>\n",
       "      <td>300153.000000</td>\n",
       "      <td>300153.000000</td>\n",
       "      <td>300153.000000</td>\n",
       "      <td>300153.000000</td>\n",
       "    </tr>\n",
       "    <tr>\n",
       "      <th>mean</th>\n",
       "      <td>150076.000000</td>\n",
       "      <td>12.221021</td>\n",
       "      <td>26.004751</td>\n",
       "      <td>20889.660523</td>\n",
       "    </tr>\n",
       "    <tr>\n",
       "      <th>std</th>\n",
       "      <td>86646.852011</td>\n",
       "      <td>7.191997</td>\n",
       "      <td>13.561004</td>\n",
       "      <td>22697.767366</td>\n",
       "    </tr>\n",
       "    <tr>\n",
       "      <th>min</th>\n",
       "      <td>0.000000</td>\n",
       "      <td>0.830000</td>\n",
       "      <td>1.000000</td>\n",
       "      <td>1105.000000</td>\n",
       "    </tr>\n",
       "    <tr>\n",
       "      <th>25%</th>\n",
       "      <td>75038.000000</td>\n",
       "      <td>6.830000</td>\n",
       "      <td>15.000000</td>\n",
       "      <td>4783.000000</td>\n",
       "    </tr>\n",
       "    <tr>\n",
       "      <th>50%</th>\n",
       "      <td>150076.000000</td>\n",
       "      <td>11.250000</td>\n",
       "      <td>26.000000</td>\n",
       "      <td>7425.000000</td>\n",
       "    </tr>\n",
       "    <tr>\n",
       "      <th>75%</th>\n",
       "      <td>225114.000000</td>\n",
       "      <td>16.170000</td>\n",
       "      <td>38.000000</td>\n",
       "      <td>42521.000000</td>\n",
       "    </tr>\n",
       "    <tr>\n",
       "      <th>max</th>\n",
       "      <td>300152.000000</td>\n",
       "      <td>49.830000</td>\n",
       "      <td>49.000000</td>\n",
       "      <td>123071.000000</td>\n",
       "    </tr>\n",
       "  </tbody>\n",
       "</table>\n",
       "</div>"
      ],
      "text/plain": [
       "          Unnamed: 0       duration      days_left          price\n",
       "count  300153.000000  300153.000000  300153.000000  300153.000000\n",
       "mean   150076.000000      12.221021      26.004751   20889.660523\n",
       "std     86646.852011       7.191997      13.561004   22697.767366\n",
       "min         0.000000       0.830000       1.000000    1105.000000\n",
       "25%     75038.000000       6.830000      15.000000    4783.000000\n",
       "50%    150076.000000      11.250000      26.000000    7425.000000\n",
       "75%    225114.000000      16.170000      38.000000   42521.000000\n",
       "max    300152.000000      49.830000      49.000000  123071.000000"
      ]
     },
     "execution_count": 5,
     "metadata": {},
     "output_type": "execute_result"
    }
   ],
   "source": [
    "#Describe the dataset\n",
    "df.describe()"
   ]
  },
  {
   "cell_type": "code",
   "execution_count": 6,
   "id": "7cec0b36",
   "metadata": {},
   "outputs": [
    {
     "data": {
      "text/plain": [
       "(300153, 12)"
      ]
     },
     "execution_count": 6,
     "metadata": {},
     "output_type": "execute_result"
    }
   ],
   "source": [
    "#Shape of Dataset\n",
    "df.shape"
   ]
  },
  {
   "cell_type": "code",
   "execution_count": 8,
   "id": "4f5c44f8",
   "metadata": {},
   "outputs": [
    {
     "data": {
      "text/plain": [
       "Unnamed: 0          300153\n",
       "airline                  6\n",
       "flight                1561\n",
       "source_city              6\n",
       "departure_time           6\n",
       "stops                    3\n",
       "arrival_time             6\n",
       "destination_city         6\n",
       "class                    2\n",
       "duration               476\n",
       "days_left               49\n",
       "price                12157\n",
       "dtype: int64"
      ]
     },
     "execution_count": 8,
     "metadata": {},
     "output_type": "execute_result"
    }
   ],
   "source": [
    "#no.of unique values\n",
    "df.nunique()"
   ]
  },
  {
   "cell_type": "markdown",
   "id": "ee612ce9",
   "metadata": {},
   "source": [
    "## Checking Null Values"
   ]
  },
  {
   "cell_type": "code",
   "execution_count": 4,
   "id": "3893d7dd",
   "metadata": {},
   "outputs": [
    {
     "data": {
      "text/html": [
       "<div>\n",
       "<style scoped>\n",
       "    .dataframe tbody tr th:only-of-type {\n",
       "        vertical-align: middle;\n",
       "    }\n",
       "\n",
       "    .dataframe tbody tr th {\n",
       "        vertical-align: top;\n",
       "    }\n",
       "\n",
       "    .dataframe thead th {\n",
       "        text-align: right;\n",
       "    }\n",
       "</style>\n",
       "<table border=\"1\" class=\"dataframe\">\n",
       "  <thead>\n",
       "    <tr style=\"text-align: right;\">\n",
       "      <th></th>\n",
       "      <th>Unnamed: 0</th>\n",
       "      <th>airline</th>\n",
       "      <th>flight</th>\n",
       "      <th>source_city</th>\n",
       "      <th>departure_time</th>\n",
       "      <th>stops</th>\n",
       "      <th>arrival_time</th>\n",
       "      <th>destination_city</th>\n",
       "      <th>class</th>\n",
       "      <th>duration</th>\n",
       "      <th>days_left</th>\n",
       "      <th>price</th>\n",
       "    </tr>\n",
       "  </thead>\n",
       "  <tbody>\n",
       "    <tr>\n",
       "      <th>0</th>\n",
       "      <td>False</td>\n",
       "      <td>False</td>\n",
       "      <td>False</td>\n",
       "      <td>False</td>\n",
       "      <td>False</td>\n",
       "      <td>False</td>\n",
       "      <td>False</td>\n",
       "      <td>False</td>\n",
       "      <td>False</td>\n",
       "      <td>False</td>\n",
       "      <td>False</td>\n",
       "      <td>False</td>\n",
       "    </tr>\n",
       "    <tr>\n",
       "      <th>1</th>\n",
       "      <td>False</td>\n",
       "      <td>False</td>\n",
       "      <td>False</td>\n",
       "      <td>False</td>\n",
       "      <td>False</td>\n",
       "      <td>False</td>\n",
       "      <td>False</td>\n",
       "      <td>False</td>\n",
       "      <td>False</td>\n",
       "      <td>False</td>\n",
       "      <td>False</td>\n",
       "      <td>False</td>\n",
       "    </tr>\n",
       "    <tr>\n",
       "      <th>2</th>\n",
       "      <td>False</td>\n",
       "      <td>False</td>\n",
       "      <td>False</td>\n",
       "      <td>False</td>\n",
       "      <td>False</td>\n",
       "      <td>False</td>\n",
       "      <td>False</td>\n",
       "      <td>False</td>\n",
       "      <td>False</td>\n",
       "      <td>False</td>\n",
       "      <td>False</td>\n",
       "      <td>False</td>\n",
       "    </tr>\n",
       "    <tr>\n",
       "      <th>3</th>\n",
       "      <td>False</td>\n",
       "      <td>False</td>\n",
       "      <td>False</td>\n",
       "      <td>False</td>\n",
       "      <td>False</td>\n",
       "      <td>False</td>\n",
       "      <td>False</td>\n",
       "      <td>False</td>\n",
       "      <td>False</td>\n",
       "      <td>False</td>\n",
       "      <td>False</td>\n",
       "      <td>False</td>\n",
       "    </tr>\n",
       "    <tr>\n",
       "      <th>4</th>\n",
       "      <td>False</td>\n",
       "      <td>False</td>\n",
       "      <td>False</td>\n",
       "      <td>False</td>\n",
       "      <td>False</td>\n",
       "      <td>False</td>\n",
       "      <td>False</td>\n",
       "      <td>False</td>\n",
       "      <td>False</td>\n",
       "      <td>False</td>\n",
       "      <td>False</td>\n",
       "      <td>False</td>\n",
       "    </tr>\n",
       "    <tr>\n",
       "      <th>...</th>\n",
       "      <td>...</td>\n",
       "      <td>...</td>\n",
       "      <td>...</td>\n",
       "      <td>...</td>\n",
       "      <td>...</td>\n",
       "      <td>...</td>\n",
       "      <td>...</td>\n",
       "      <td>...</td>\n",
       "      <td>...</td>\n",
       "      <td>...</td>\n",
       "      <td>...</td>\n",
       "      <td>...</td>\n",
       "    </tr>\n",
       "    <tr>\n",
       "      <th>300148</th>\n",
       "      <td>False</td>\n",
       "      <td>False</td>\n",
       "      <td>False</td>\n",
       "      <td>False</td>\n",
       "      <td>False</td>\n",
       "      <td>False</td>\n",
       "      <td>False</td>\n",
       "      <td>False</td>\n",
       "      <td>False</td>\n",
       "      <td>False</td>\n",
       "      <td>False</td>\n",
       "      <td>False</td>\n",
       "    </tr>\n",
       "    <tr>\n",
       "      <th>300149</th>\n",
       "      <td>False</td>\n",
       "      <td>False</td>\n",
       "      <td>False</td>\n",
       "      <td>False</td>\n",
       "      <td>False</td>\n",
       "      <td>False</td>\n",
       "      <td>False</td>\n",
       "      <td>False</td>\n",
       "      <td>False</td>\n",
       "      <td>False</td>\n",
       "      <td>False</td>\n",
       "      <td>False</td>\n",
       "    </tr>\n",
       "    <tr>\n",
       "      <th>300150</th>\n",
       "      <td>False</td>\n",
       "      <td>False</td>\n",
       "      <td>False</td>\n",
       "      <td>False</td>\n",
       "      <td>False</td>\n",
       "      <td>False</td>\n",
       "      <td>False</td>\n",
       "      <td>False</td>\n",
       "      <td>False</td>\n",
       "      <td>False</td>\n",
       "      <td>False</td>\n",
       "      <td>False</td>\n",
       "    </tr>\n",
       "    <tr>\n",
       "      <th>300151</th>\n",
       "      <td>False</td>\n",
       "      <td>False</td>\n",
       "      <td>False</td>\n",
       "      <td>False</td>\n",
       "      <td>False</td>\n",
       "      <td>False</td>\n",
       "      <td>False</td>\n",
       "      <td>False</td>\n",
       "      <td>False</td>\n",
       "      <td>False</td>\n",
       "      <td>False</td>\n",
       "      <td>False</td>\n",
       "    </tr>\n",
       "    <tr>\n",
       "      <th>300152</th>\n",
       "      <td>False</td>\n",
       "      <td>False</td>\n",
       "      <td>False</td>\n",
       "      <td>False</td>\n",
       "      <td>False</td>\n",
       "      <td>False</td>\n",
       "      <td>False</td>\n",
       "      <td>False</td>\n",
       "      <td>False</td>\n",
       "      <td>False</td>\n",
       "      <td>False</td>\n",
       "      <td>False</td>\n",
       "    </tr>\n",
       "  </tbody>\n",
       "</table>\n",
       "<p>300153 rows × 12 columns</p>\n",
       "</div>"
      ],
      "text/plain": [
       "        Unnamed: 0  airline  flight  source_city  departure_time  stops  \\\n",
       "0            False    False   False        False           False  False   \n",
       "1            False    False   False        False           False  False   \n",
       "2            False    False   False        False           False  False   \n",
       "3            False    False   False        False           False  False   \n",
       "4            False    False   False        False           False  False   \n",
       "...            ...      ...     ...          ...             ...    ...   \n",
       "300148       False    False   False        False           False  False   \n",
       "300149       False    False   False        False           False  False   \n",
       "300150       False    False   False        False           False  False   \n",
       "300151       False    False   False        False           False  False   \n",
       "300152       False    False   False        False           False  False   \n",
       "\n",
       "        arrival_time  destination_city  class  duration  days_left  price  \n",
       "0              False             False  False     False      False  False  \n",
       "1              False             False  False     False      False  False  \n",
       "2              False             False  False     False      False  False  \n",
       "3              False             False  False     False      False  False  \n",
       "4              False             False  False     False      False  False  \n",
       "...              ...               ...    ...       ...        ...    ...  \n",
       "300148         False             False  False     False      False  False  \n",
       "300149         False             False  False     False      False  False  \n",
       "300150         False             False  False     False      False  False  \n",
       "300151         False             False  False     False      False  False  \n",
       "300152         False             False  False     False      False  False  \n",
       "\n",
       "[300153 rows x 12 columns]"
      ]
     },
     "execution_count": 4,
     "metadata": {},
     "output_type": "execute_result"
    }
   ],
   "source": [
    "#checking null values\n",
    "df.isnull()"
   ]
  },
  {
   "cell_type": "markdown",
   "id": "8b6752be",
   "metadata": {},
   "source": [
    "#### From above table we can conclude that there is no any null values"
   ]
  },
  {
   "cell_type": "code",
   "execution_count": 5,
   "id": "0c9a79f7",
   "metadata": {},
   "outputs": [
    {
     "data": {
      "text/plain": [
       "Unnamed: 0          0\n",
       "airline             0\n",
       "flight              0\n",
       "source_city         0\n",
       "departure_time      0\n",
       "stops               0\n",
       "arrival_time        0\n",
       "destination_city    0\n",
       "class               0\n",
       "duration            0\n",
       "days_left           0\n",
       "price               0\n",
       "dtype: int64"
      ]
     },
     "execution_count": 5,
     "metadata": {},
     "output_type": "execute_result"
    }
   ],
   "source": [
    "#sum of null values\n",
    "df.isnull().sum()"
   ]
  },
  {
   "cell_type": "code",
   "execution_count": 6,
   "id": "1cbfa203",
   "metadata": {},
   "outputs": [
    {
     "data": {
      "text/plain": [
       "0         False\n",
       "1         False\n",
       "2         False\n",
       "3         False\n",
       "4         False\n",
       "          ...  \n",
       "300148    False\n",
       "300149    False\n",
       "300150    False\n",
       "300151    False\n",
       "300152    False\n",
       "Length: 300153, dtype: bool"
      ]
     },
     "execution_count": 6,
     "metadata": {},
     "output_type": "execute_result"
    }
   ],
   "source": [
    "#checking duplicated values\n",
    "df.duplicated()"
   ]
  },
  {
   "cell_type": "markdown",
   "id": "8c7b1bfb",
   "metadata": {},
   "source": [
    "#### There is no duplicated values"
   ]
  },
  {
   "cell_type": "markdown",
   "id": "4276b6ca",
   "metadata": {},
   "source": [
    "# "
   ]
  },
  {
   "cell_type": "markdown",
   "id": "71b9da5c",
   "metadata": {},
   "source": [
    "### No.of Flights per Airline"
   ]
  },
  {
   "cell_type": "code",
   "execution_count": 7,
   "id": "1dfeff06",
   "metadata": {},
   "outputs": [
    {
     "data": {
      "text/plain": [
       "Vistara      127859\n",
       "Air_India     80892\n",
       "Indigo        43120\n",
       "GO_FIRST      23173\n",
       "AirAsia       16098\n",
       "SpiceJet       9011\n",
       "Name: airline, dtype: int64"
      ]
     },
     "execution_count": 7,
     "metadata": {},
     "output_type": "execute_result"
    }
   ],
   "source": [
    "df['airline'].value_counts()"
   ]
  },
  {
   "cell_type": "markdown",
   "id": "038fa573",
   "metadata": {},
   "source": [
    "#### Vistara had more no.of flights and less no.of flights for Spicejet"
   ]
  },
  {
   "cell_type": "markdown",
   "id": "59f00b5c",
   "metadata": {},
   "source": [
    "## Which airlines prefered most?"
   ]
  },
  {
   "cell_type": "code",
   "execution_count": 8,
   "id": "56deec8d",
   "metadata": {},
   "outputs": [
    {
     "data": {
      "image/png": "[encoded data removed]",
      "text/plain": [
       "<Figure size 432x288 with 1 Axes>"
      ]
     },
     "metadata": {
      "needs_background": "light"
     },
     "output_type": "display_data"
    }
   ],
   "source": [
    "#using barGraph for visualize the most used airline\n",
    "df.airline.value_counts(normalize=True).plot.bar()\n",
    "plt.show()"
   ]
  },
  {
   "cell_type": "markdown",
   "id": "fa4e0a54",
   "metadata": {},
   "source": [
    "#### Vistara is most preferd airlines"
   ]
  },
  {
   "cell_type": "markdown",
   "id": "6051f97e",
   "metadata": {},
   "source": [
    "## Which airline cost is more and least"
   ]
  },
  {
   "cell_type": "code",
   "execution_count": 9,
   "id": "7aea2dcb",
   "metadata": {},
   "outputs": [
    {
     "data": {
      "text/plain": [
       "<AxesSubplot:xlabel='price', ylabel='Density'>"
      ]
     },
     "execution_count": 9,
     "metadata": {},
     "output_type": "execute_result"
    },
    {
     "data": {
      "image/png": "[encoded data removed]",
      "text/plain": [
       "<Figure size 432x288 with 1 Axes>"
      ]
     },
     "metadata": {
      "needs_background": "light"
     },
     "output_type": "display_data"
    }
   ],
   "source": [
    "#using kdeplot for checking for which fight is costly and cheap\n",
    "sns.kdeplot(x='price', data=df, hue='airline')"
   ]
  },
  {
   "cell_type": "code",
   "execution_count": 10,
   "id": "b7c7700f",
   "metadata": {},
   "outputs": [
    {
     "data": {
      "text/plain": [
       "<AxesSubplot:xlabel='airline', ylabel='price'>"
      ]
     },
     "execution_count": 10,
     "metadata": {},
     "output_type": "execute_result"
    },
    {
     "data": {
      "image/png": "[encoded data removed]",
      "text/plain": [
       "<Figure size 432x288 with 1 Axes>"
      ]
     },
     "metadata": {
      "needs_background": "light"
     },
     "output_type": "display_data"
    }
   ],
   "source": [
    "#using barplot\n",
    "sns.barplot(x=df['airline'],y=df['price'])"
   ]
  },
  {
   "cell_type": "markdown",
   "id": "4446bc98",
   "metadata": {},
   "source": [
    "#### The costly airlines is :- \"Vistara\"\n",
    "\n",
    "#### The cheap airlines is :- \"Airasia\""
   ]
  },
  {
   "cell_type": "markdown",
   "id": "97065b47",
   "metadata": {},
   "source": [
    "## In what time most flights were departured?"
   ]
  },
  {
   "cell_type": "code",
   "execution_count": 11,
   "id": "37b0cbf6",
   "metadata": {},
   "outputs": [
    {
     "data": {
      "image/png": "[encoded data removed]",
      "text/plain": [
       "<Figure size 432x288 with 1 Axes>"
      ]
     },
     "metadata": {},
     "output_type": "display_data"
    }
   ],
   "source": [
    "#using pie chart for visualizing in which time flights were departured most.\n",
    "data = df['departure_time'].value_counts()\n",
    "plt.pie(data, labels=data.index, autopct=\"%.0f%%\");"
   ]
  },
  {
   "cell_type": "markdown",
   "id": "1528992e",
   "metadata": {},
   "source": [
    "#### More flights departured in the Morning\n",
    "\n",
    "#### less flights departured in Late_Night"
   ]
  },
  {
   "cell_type": "code",
   "execution_count": 12,
   "id": "0d83f5a6",
   "metadata": {},
   "outputs": [
    {
     "name": "stderr",
     "output_type": "stream",
     "text": [
      "C:\\Users\\manid\\anaconda3\\lib\\site-packages\\seaborn\\_decorators.py:36: FutureWarning: Pass the following variable as a keyword arg: x. From version 0.12, the only valid positional argument will be `data`, and passing other arguments without an explicit keyword will result in an error or misinterpretation.\n",
      "  warnings.warn(\n"
     ]
    },
    {
     "data": {
      "image/png": "[encoded data removed]",
      "text/plain": [
       "<Figure size 576x360 with 1 Axes>"
      ]
     },
     "metadata": {
      "needs_background": "light"
     },
     "output_type": "display_data"
    }
   ],
   "source": [
    "#using barplot\n",
    "plt.figure(figsize=(8,5))\n",
    "sns.countplot(df['departure_time'],palette='hls')\n",
    "plt.title('Flights Count of Departure Time',fontsize=15)\n",
    "plt.xlabel('Time',fontsize=15)\n",
    "plt.ylabel('Count',fontsize=15)\n",
    "plt.show()"
   ]
  },
  {
   "cell_type": "code",
   "execution_count": 13,
   "id": "0be553ac",
   "metadata": {},
   "outputs": [
    {
     "name": "stderr",
     "output_type": "stream",
     "text": [
      "C:\\Users\\manid\\anaconda3\\lib\\site-packages\\seaborn\\_decorators.py:36: FutureWarning: Pass the following variable as a keyword arg: x. From version 0.12, the only valid positional argument will be `data`, and passing other arguments without an explicit keyword will result in an error or misinterpretation.\n",
      "  warnings.warn(\n"
     ]
    },
    {
     "data": {
      "image/png": "[encoded data removed]",
      "text/plain": [
       "<Figure size 576x360 with 1 Axes>"
      ]
     },
     "metadata": {
      "needs_background": "light"
     },
     "output_type": "display_data"
    }
   ],
   "source": [
    "#using barplot\n",
    "plt.figure(figsize=(8,5))\n",
    "sns.countplot(df['arrival_time'],palette='hls')\n",
    "plt.title('Flights Count of Arrival Time',fontsize=15)\n",
    "plt.xlabel('Time',fontsize=15)\n",
    "plt.ylabel('Count',fontsize=15)\n",
    "plt.show()"
   ]
  },
  {
   "cell_type": "markdown",
   "id": "6e7a7f1d",
   "metadata": {},
   "source": [
    "#### Most flights are arrived in Night time\n",
    "\n",
    "#### less no.of flights are arrived in Early Morning time"
   ]
  },
  {
   "cell_type": "markdown",
   "id": "bd646838",
   "metadata": {},
   "source": [
    "## Which airline is popular?"
   ]
  },
  {
   "cell_type": "code",
   "execution_count": 14,
   "id": "d992f9b3",
   "metadata": {},
   "outputs": [
    {
     "data": {
      "text/plain": [
       "Indigo       704\n",
       "Air_India    218\n",
       "GO_FIRST     205\n",
       "SpiceJet     186\n",
       "Vistara      133\n",
       "AirAsia      115\n",
       "Name: airline, dtype: int64"
      ]
     },
     "execution_count": 14,
     "metadata": {},
     "output_type": "execute_result"
    }
   ],
   "source": [
    "df1=df.groupby(['flight','airline'],as_index=False).count()\n",
    "df1.airline.value_counts()"
   ]
  },
  {
   "cell_type": "markdown",
   "id": "00f8d9da",
   "metadata": {},
   "source": [
    "## How many flights are travelled in different airlines ?"
   ]
  },
  {
   "cell_type": "code",
   "execution_count": 15,
   "id": "5f14c382",
   "metadata": {
    "scrolled": false
   },
   "outputs": [
    {
     "name": "stderr",
     "output_type": "stream",
     "text": [
      "C:\\Users\\manid\\anaconda3\\lib\\site-packages\\seaborn\\_decorators.py:36: FutureWarning: Pass the following variable as a keyword arg: x. From version 0.12, the only valid positional argument will be `data`, and passing other arguments without an explicit keyword will result in an error or misinterpretation.\n",
      "  warnings.warn(\n"
     ]
    },
    {
     "data": {
      "image/png": "[encoded data removed]",
      "text/plain": [
       "<Figure size 576x360 with 1 Axes>"
      ]
     },
     "metadata": {
      "needs_background": "light"
     },
     "output_type": "display_data"
    }
   ],
   "source": [
    "plt.figure(figsize=(8,5))\n",
    "sns.countplot(df1['airline'],palette='hls')\n",
    "plt.title('Flights Count of Different Airlines',fontsize=15)\n",
    "plt.xlabel('Airline',fontsize=15)\n",
    "plt.ylabel('Count',fontsize=15)\n",
    "plt.show()"
   ]
  },
  {
   "cell_type": "markdown",
   "id": "fe842731",
   "metadata": {},
   "source": [
    "#### most flights are travelled from indigo airlines\n",
    "\n",
    "#### less flights are travelled fron Airasia airlines"
   ]
  },
  {
   "cell_type": "markdown",
   "id": "b061d81e",
   "metadata": {},
   "source": [
    "## From which city the flight price is low"
   ]
  },
  {
   "cell_type": "code",
   "execution_count": 16,
   "id": "07692bb3",
   "metadata": {},
   "outputs": [
    {
     "data": {
      "text/plain": [
       "Delhi        0.204372\n",
       "Mumbai       0.202883\n",
       "Bangalore    0.173448\n",
       "Kolkata      0.154411\n",
       "Hyderabad    0.135951\n",
       "Chennai      0.128934\n",
       "Name: source_city, dtype: float64"
      ]
     },
     "execution_count": 16,
     "metadata": {},
     "output_type": "execute_result"
    }
   ],
   "source": [
    "df.source_city.value_counts(normalize=True)"
   ]
  },
  {
   "cell_type": "code",
   "execution_count": 17,
   "id": "2cc1a17e",
   "metadata": {},
   "outputs": [
    {
     "data": {
      "text/plain": [
       "<function matplotlib.pyplot.show(close=None, block=None)>"
      ]
     },
     "execution_count": 17,
     "metadata": {},
     "output_type": "execute_result"
    },
    {
     "data": {
      "image/png": "[encoded data removed]",
      "text/plain": [
       "<Figure size 432x288 with 1 Axes>"
      ]
     },
     "metadata": {
      "needs_background": "light"
     },
     "output_type": "display_data"
    }
   ],
   "source": [
    "df.source_city.value_counts(normalize=True).plot.bar()\n",
    "plt.show"
   ]
  },
  {
   "cell_type": "markdown",
   "id": "3276765f",
   "metadata": {},
   "source": [
    "#### From the above graph we can observe that chennai had all time lowest price and Delhi had highest price."
   ]
  },
  {
   "cell_type": "markdown",
   "id": "484cc6cf",
   "metadata": {},
   "source": [
    "### Which airline had more no.of bookings in Business class?"
   ]
  },
  {
   "cell_type": "code",
   "execution_count": 18,
   "id": "49f422a2",
   "metadata": {},
   "outputs": [
    {
     "data": {
      "text/plain": [
       "<AxesSubplot:xlabel='airline', ylabel='price'>"
      ]
     },
     "execution_count": 18,
     "metadata": {},
     "output_type": "execute_result"
    },
    {
     "data": {
      "image/png": "[encoded data removed]",
      "text/plain": [
       "<Figure size 648x432 with 1 Axes>"
      ]
     },
     "metadata": {
      "needs_background": "light"
     },
     "output_type": "display_data"
    }
   ],
   "source": [
    "#difference between price of economy and business class\n",
    "plt.figure(figsize=(9,6))\n",
    "sns.barplot(x = 'airline',y='price',data = df,hue = 'class',edgecolor=\".2\")"
   ]
  },
  {
   "cell_type": "markdown",
   "id": "dd66fcd2",
   "metadata": {},
   "source": [
    "#### Vistara had more no.of Business class bookings"
   ]
  },
  {
   "cell_type": "markdown",
   "id": "5929d28b",
   "metadata": {},
   "source": [
    "### Which city people are flying in Economy and Business classs?"
   ]
  },
  {
   "cell_type": "code",
   "execution_count": 19,
   "id": "97fbecaa",
   "metadata": {},
   "outputs": [
    {
     "data": {
      "text/plain": [
       "<AxesSubplot:xlabel='source_city', ylabel='price'>"
      ]
     },
     "execution_count": 19,
     "metadata": {},
     "output_type": "execute_result"
    },
    {
     "data": {
      "image/png": "[encoded data removed]",
      "text/plain": [
       "<Figure size 648x432 with 1 Axes>"
      ]
     },
     "metadata": {
      "needs_background": "light"
     },
     "output_type": "display_data"
    }
   ],
   "source": [
    "#difference between price of economy and business class\n",
    "plt.figure(figsize=(9,6))\n",
    "sns.barplot(x = 'source_city',y='price',data = df,hue = 'class',edgecolor=\".2\")"
   ]
  },
  {
   "cell_type": "markdown",
   "id": "c4121b7c",
   "metadata": {},
   "source": [
    "#### From kolkata more no.of people are flying in Business Class\n",
    "#### From Delhi less no.of people are flying in Economy Class"
   ]
  },
  {
   "cell_type": "code",
   "execution_count": 12,
   "id": "c4375f32",
   "metadata": {},
   "outputs": [
    {
     "data": {
      "text/plain": [
       "UK-706    3235\n",
       "UK-772    2741\n",
       "UK-720    2650\n",
       "UK-836    2542\n",
       "UK-822    2468\n",
       "UK-828    2440\n",
       "UK-874    2423\n",
       "UK-832    2404\n",
       "UK-826    2335\n",
       "UK-860    2329\n",
       "UK-876    2307\n",
       "UK-878    2285\n",
       "UK-838    2255\n",
       "UK-830    2204\n",
       "UK-870    2199\n",
       "UK-824    2156\n",
       "UK-774    2145\n",
       "UK-708    2140\n",
       "UK-738    2136\n",
       "UK-852    2016\n",
       "Name: flight, dtype: int64"
      ]
     },
     "execution_count": 12,
     "metadata": {},
     "output_type": "execute_result"
    }
   ],
   "source": [
    "flights_Code = df.flight.value_counts().head(20).sort_values(ascending=False)\n",
    "flights_Code"
   ]
  },
  {
   "cell_type": "markdown",
   "id": "fe268818",
   "metadata": {},
   "source": [
    "### Most Frequent Flights"
   ]
  },
  {
   "cell_type": "code",
   "execution_count": 15,
   "id": "30714715",
   "metadata": {
    "scrolled": true
   },
   "outputs": [
    {
     "data": {
      "image/png": "[encoded data removed]",
      "text/plain": [
       "<Figure size 1296x432 with 1 Axes>"
      ]
     },
     "metadata": {
      "needs_background": "light"
     },
     "output_type": "display_data"
    }
   ],
   "source": [
    "plt.figure(figsize=(18,6))\n",
    "flights_Code.plot(kind='bar')\n",
    "plt.title('Most Frequent Flights',fontsize=15)\n",
    "plt.xlabel('Fligths',fontsize=15)\n",
    "plt.ylabel('Count',fontsize=15)\n",
    "plt.show()"
   ]
  },
  {
   "cell_type": "markdown",
   "id": "e0638a2e",
   "metadata": {},
   "source": [
    "### Most Frequent Take-off city"
   ]
  },
  {
   "cell_type": "code",
   "execution_count": 18,
   "id": "b88fc8c4",
   "metadata": {},
   "outputs": [
    {
     "name": "stderr",
     "output_type": "stream",
     "text": [
      "C:\\Users\\manid\\anaconda3\\lib\\site-packages\\seaborn\\_decorators.py:36: FutureWarning: Pass the following variable as a keyword arg: x. From version 0.12, the only valid positional argument will be `data`, and passing other arguments without an explicit keyword will result in an error or misinterpretation.\n",
      "  warnings.warn(\n"
     ]
    },
    {
     "data": {
      "image/png": "[encoded data removed]",
      "text/plain": [
       "<Figure size 1296x432 with 1 Axes>"
      ]
     },
     "metadata": {
      "needs_background": "light"
     },
     "output_type": "display_data"
    }
   ],
   "source": [
    "plt.figure(figsize=(18,6))\n",
    "sns.countplot(df['source_city'],palette='hls')\n",
    "plt.title('Most Frequent takeoff City',fontsize=15)\n",
    "plt.xlabel('Airline',fontsize=15)\n",
    "plt.ylabel('Count',fontsize=15)\n",
    "plt.show()"
   ]
  },
  {
   "cell_type": "markdown",
   "id": "d045924e",
   "metadata": {},
   "source": [
    "### Flights Haults counts"
   ]
  },
  {
   "cell_type": "code",
   "execution_count": 21,
   "id": "160afa1c",
   "metadata": {},
   "outputs": [
    {
     "name": "stderr",
     "output_type": "stream",
     "text": [
      "C:\\Users\\manid\\anaconda3\\lib\\site-packages\\seaborn\\_decorators.py:36: FutureWarning: Pass the following variable as a keyword arg: x. From version 0.12, the only valid positional argument will be `data`, and passing other arguments without an explicit keyword will result in an error or misinterpretation.\n",
      "  warnings.warn(\n"
     ]
    },
    {
     "data": {
      "image/png": "[encoded data removed]",
      "text/plain": [
       "<Figure size 1296x432 with 1 Axes>"
      ]
     },
     "metadata": {
      "needs_background": "light"
     },
     "output_type": "display_data"
    }
   ],
   "source": [
    "plt.figure(figsize=(18,6))\n",
    "sns.countplot(df['stops'],palette='hls')\n",
    "plt.title('Flight Stops',fontsize=15)\n",
    "plt.xlabel('Haults',fontsize=15)\n",
    "plt.ylabel('Count',fontsize=15)\n",
    "plt.show()"
   ]
  },
  {
   "cell_type": "code",
   "execution_count": null,
   "id": "46af5d60",
   "metadata": {},
   "outputs": [],
   "source": []
  }
 ],
 "metadata": {
  "kernelspec": {
   "display_name": "Python 3 (ipykernel)",
   "language": "python",
   "name": "python3"
  },
  "language_info": {
   "codemirror_mode": {
    "name": "ipython",
    "version": 3
   },
   "file_extension": ".py",
   "mimetype": "text/x-python",
   "name": "python",
   "nbconvert_exporter": "python",
   "pygments_lexer": "ipython3",
   "version": "3.9.12"
  }
 },
 "nbformat": 4,
 "nbformat_minor": 5
}
